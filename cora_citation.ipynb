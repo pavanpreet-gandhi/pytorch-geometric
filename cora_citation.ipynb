{
 "cells": [
  {
   "cell_type": "code",
   "execution_count": 1,
   "id": "6173ce98",
   "metadata": {},
   "outputs": [],
   "source": [
    "import torch\n",
    "import torch.nn.functional as F\n",
    "import torch_geometric\n",
    "from torch_geometric.datasets import Planetoid\n",
    "from torch_geometric.nn import SAGEConv"
   ]
  },
  {
   "cell_type": "code",
   "execution_count": 2,
   "id": "f30be140",
   "metadata": {},
   "outputs": [
    {
     "name": "stdout",
     "output_type": "stream",
     "text": [
      "Using device: mps\n"
     ]
    }
   ],
   "source": [
    "# Enable torch to use mps\n",
    "device = torch.device('mps' if torch.backends.mps.is_available() else 'cpu')\n",
    "print(f'Using device: {device}')"
   ]
  },
  {
   "cell_type": "code",
   "execution_count": 3,
   "id": "7220374c",
   "metadata": {},
   "outputs": [],
   "source": [
    "# NOTE: The cora dataset contains a single undirected citation graph\n",
    "dataset = Planetoid(root='data', name='Cora')"
   ]
  },
  {
   "cell_type": "code",
   "execution_count": 4,
   "id": "6d93f58a",
   "metadata": {},
   "outputs": [
    {
     "name": "stdout",
     "output_type": "stream",
     "text": [
      "Dataset: Cora\n",
      "Number of graphs: 1\n",
      "Number of classes: 7\n",
      "Number of node features: 1433\n",
      "Number of edge features: 0\n"
     ]
    }
   ],
   "source": [
    "print(f'Dataset: {dataset.name}')\n",
    "print(f'Number of graphs: {len(dataset)}')\n",
    "print(f'Number of classes: {dataset.num_classes}')\n",
    "print(f'Number of node features: {dataset.num_node_features}')\n",
    "print(f'Number of edge features: {dataset.num_edge_features}')"
   ]
  },
  {
   "cell_type": "code",
   "execution_count": 5,
   "id": "76f22544",
   "metadata": {},
   "outputs": [
    {
     "name": "stdout",
     "output_type": "stream",
     "text": [
      "Data(x=[2708, 1433], edge_index=[2, 10556], y=[2708], train_mask=[2708], val_mask=[2708], test_mask=[2708])\n"
     ]
    }
   ],
   "source": [
    "data = dataset[0]\n",
    "print(data)"
   ]
  },
  {
   "cell_type": "code",
   "execution_count": 6,
   "id": "31b9f1de",
   "metadata": {},
   "outputs": [
    {
     "name": "stdout",
     "output_type": "stream",
     "text": [
      "Node features shape: torch.Size([2708, 1433])\n",
      "Edge index shape: torch.Size([2, 10556])\n",
      "Labels shape: torch.Size([2708])\n",
      "Number of training nodes: 140\n",
      "Number of validation nodes: 500\n",
      "Number of test nodes: 1000\n"
     ]
    }
   ],
   "source": [
    "# Print x shape, edge_index shape, y shape\n",
    "print(f'Node features shape: {data.x.shape}')\n",
    "print(f'Edge index shape: {data.edge_index.shape}')\n",
    "print(f'Labels shape: {data.y.shape}')\n",
    "print(f'Number of training nodes: {data.train_mask.sum().item()}')\n",
    "print(f'Number of validation nodes: {data.val_mask.sum().item()}')\n",
    "print(f'Number of test nodes: {data.test_mask.sum().item()}')\n",
    "# NOTE: The graph has 2708 nodes and 10556/2 = 5278 edges."
   ]
  },
  {
   "cell_type": "code",
   "execution_count": 7,
   "id": "90e21628",
   "metadata": {},
   "outputs": [],
   "source": [
    "class Net(torch.nn.Module):\n",
    "\n",
    "    def __init__(self, hidden_channels=16, dropout=0.5, layer_kwargs=None):\n",
    "        super(Net, self).__init__()\n",
    "        self.conv1 = SAGEConv(dataset.num_node_features, hidden_channels)\n",
    "        self.conv2 = SAGEConv(hidden_channels, dataset.num_classes)\n",
    "        self.dropout = dropout\n",
    "    \n",
    "    def forward(self, data):\n",
    "        x, edge_index = data.x, data.edge_index\n",
    "        x = self.conv1(x, edge_index)\n",
    "        x = F.relu(x)\n",
    "        x = F.dropout(x, p=self.dropout, training=self.training)\n",
    "        x = self.conv2(x, edge_index)\n",
    "        return F.log_softmax(x, dim=1)"
   ]
  },
  {
   "cell_type": "code",
   "execution_count": 8,
   "id": "f65b30e4",
   "metadata": {},
   "outputs": [],
   "source": [
    "model = Net(layer_kwargs={'aggr': 'mean', 'normalize': True}).to(device)\n",
    "data = dataset[0].to(device)\n",
    "optimizer = torch.optim.Adam(model.parameters(), lr=0.01, weight_decay=5e-4)"
   ]
  },
  {
   "cell_type": "code",
   "execution_count": 9,
   "id": "1d85fa80",
   "metadata": {},
   "outputs": [],
   "source": [
    "def train():\n",
    "    model.train()\n",
    "    optimizer.zero_grad()\n",
    "    out = model(data)\n",
    "    loss = F.nll_loss(out[data.train_mask], data.y[data.train_mask])\n",
    "    loss.backward()\n",
    "    optimizer.step()\n",
    "    return loss.item()\n",
    "\n",
    "def test():\n",
    "    model.eval()\n",
    "    out = model(data)\n",
    "    pred = out.argmax(dim=1)\n",
    "    accs = []\n",
    "    for mask in [data.train_mask, data.val_mask, data.test_mask]:\n",
    "        correct = pred[mask] == data.y[mask]\n",
    "        accs.append(int(correct.sum()) / int(mask.sum()))\n",
    "    return accs"
   ]
  },
  {
   "cell_type": "code",
   "execution_count": 10,
   "id": "39e2fdc7",
   "metadata": {},
   "outputs": [
    {
     "name": "stdout",
     "output_type": "stream",
     "text": [
      "Epoch: 010, Loss: 0.4493, Train: 1.0000, Val: 0.7240, Test: 0.7450\n",
      "Epoch: 020, Loss: 0.0814, Train: 1.0000, Val: 0.7320, Test: 0.7530\n",
      "Epoch: 030, Loss: 0.0602, Train: 1.0000, Val: 0.7160, Test: 0.7400\n",
      "Epoch: 040, Loss: 0.0341, Train: 1.0000, Val: 0.7320, Test: 0.7580\n",
      "Epoch: 050, Loss: 0.0188, Train: 1.0000, Val: 0.7200, Test: 0.7390\n",
      "Epoch: 060, Loss: 0.0165, Train: 1.0000, Val: 0.7260, Test: 0.7430\n",
      "Epoch: 070, Loss: 0.0249, Train: 1.0000, Val: 0.7320, Test: 0.7730\n",
      "Epoch: 080, Loss: 0.0159, Train: 1.0000, Val: 0.7340, Test: 0.7730\n",
      "Epoch: 090, Loss: 0.0136, Train: 1.0000, Val: 0.7380, Test: 0.7810\n",
      "Epoch: 100, Loss: 0.0137, Train: 1.0000, Val: 0.7420, Test: 0.7810\n",
      "Epoch: 110, Loss: 0.0245, Train: 1.0000, Val: 0.7380, Test: 0.7750\n",
      "Epoch: 120, Loss: 0.0148, Train: 1.0000, Val: 0.7360, Test: 0.7750\n",
      "Epoch: 130, Loss: 0.0142, Train: 1.0000, Val: 0.7440, Test: 0.7850\n",
      "Epoch: 140, Loss: 0.0193, Train: 1.0000, Val: 0.7580, Test: 0.7880\n",
      "Epoch: 150, Loss: 0.0131, Train: 1.0000, Val: 0.7640, Test: 0.7900\n",
      "Epoch: 160, Loss: 0.0245, Train: 1.0000, Val: 0.7520, Test: 0.7810\n",
      "Epoch: 170, Loss: 0.0203, Train: 1.0000, Val: 0.7460, Test: 0.7880\n",
      "Epoch: 180, Loss: 0.0248, Train: 1.0000, Val: 0.7460, Test: 0.7830\n",
      "Epoch: 190, Loss: 0.0137, Train: 1.0000, Val: 0.7520, Test: 0.7840\n",
      "Epoch: 200, Loss: 0.0207, Train: 1.0000, Val: 0.7580, Test: 0.7810\n",
      "Epoch: 210, Loss: 0.0265, Train: 1.0000, Val: 0.7680, Test: 0.7960\n",
      "Epoch: 220, Loss: 0.0096, Train: 1.0000, Val: 0.7740, Test: 0.7930\n",
      "Epoch: 230, Loss: 0.0144, Train: 1.0000, Val: 0.7620, Test: 0.7920\n",
      "Epoch: 240, Loss: 0.0159, Train: 1.0000, Val: 0.7620, Test: 0.8000\n",
      "Epoch: 250, Loss: 0.0096, Train: 1.0000, Val: 0.7640, Test: 0.7860\n",
      "Epoch: 260, Loss: 0.0104, Train: 1.0000, Val: 0.7640, Test: 0.7910\n",
      "Epoch: 270, Loss: 0.0095, Train: 1.0000, Val: 0.7800, Test: 0.7870\n",
      "Epoch: 280, Loss: 0.0144, Train: 1.0000, Val: 0.7620, Test: 0.7940\n",
      "Epoch: 290, Loss: 0.0142, Train: 1.0000, Val: 0.7600, Test: 0.7930\n",
      "Epoch: 300, Loss: 0.0113, Train: 1.0000, Val: 0.7720, Test: 0.8040\n"
     ]
    }
   ],
   "source": [
    "for epoch in range(1, 301):\n",
    "    loss = train()\n",
    "    train_acc, val_acc, test_acc = test()\n",
    "    if epoch % 10 == 0:\n",
    "        print(f'Epoch: {epoch:03d}, Loss: {loss:.4f}, '\n",
    "              f'Train: {train_acc:.4f}, Val: {val_acc:.4f}, Test: {test_acc:.4f}')"
   ]
  }
 ],
 "metadata": {
  "kernelspec": {
   "display_name": "pytorch-geometric",
   "language": "python",
   "name": "python3"
  },
  "language_info": {
   "codemirror_mode": {
    "name": "ipython",
    "version": 3
   },
   "file_extension": ".py",
   "mimetype": "text/x-python",
   "name": "python",
   "nbconvert_exporter": "python",
   "pygments_lexer": "ipython3",
   "version": "3.12.11"
  }
 },
 "nbformat": 4,
 "nbformat_minor": 5
}
